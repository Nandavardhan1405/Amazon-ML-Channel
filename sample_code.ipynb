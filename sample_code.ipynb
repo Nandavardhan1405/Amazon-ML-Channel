{
 "cells": [
  {
   "cell_type": "code",
   "execution_count": 4,
   "metadata": {},
   "outputs": [],
   "source": [
    "import os\n",
    "import random\n",
    "import pandas as pd\n",
    "import io\n",
    "import requests\n",
    "import pytesseract\n",
    "from PIL import Image\n",
    "from src.utils import download_image\n",
    "import numpy as np"
   ]
  },
  {
   "cell_type": "code",
   "execution_count": 2,
   "metadata": {},
   "outputs": [],
   "source": [
    "\n",
    "\n",
    "def predictor(image_link, category_id, entity_name):\n",
    "    '''\n",
    "    Call your model/approach here\n",
    "    '''\n",
    "    \n",
    "    #TODO\n",
    "    \n",
    "    return \"\" if random.random() > 0.5 else \"10 inch\"\n",
    "\n"
   ]
  },
  {
   "cell_type": "code",
   "execution_count": 3,
   "metadata": {},
   "outputs": [],
   "source": [
    "if __name__ == \"__main__\":\n",
    "    DATASET_FOLDER = 'dataset/'\n",
    "    \n",
    "    test = pd.read_csv(os.path.join(DATASET_FOLDER, 'test.csv'))\n",
    "    \n",
    "    test['prediction'] = test.apply(\n",
    "        lambda row: predictor(row['image_link'], row['group_id'], row['entity_name']), axis=1)\n",
    "    \n",
    "    output_filename = os.path.join(DATASET_FOLDER, 'test_out.csv')\n",
    "    test[['index', 'prediction']].to_csv(output_filename, index=False)"
   ]
  }
 ],
 "metadata": {
  "kernelspec": {
   "display_name": "Python 3",
   "language": "python",
   "name": "python3"
  },
  "language_info": {
   "codemirror_mode": {
    "name": "ipython",
    "version": 3
   },
   "file_extension": ".py",
   "mimetype": "text/x-python",
   "name": "python",
   "nbconvert_exporter": "python",
   "pygments_lexer": "ipython3",
   "version": "3.12.2"
  }
 },
 "nbformat": 4,
 "nbformat_minor": 2
}
